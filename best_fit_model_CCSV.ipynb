{
 "cells": [
  {
   "cell_type": "code",
   "execution_count": 2,
   "id": "4c2cadfb-4279-422e-a8b5-1b62776e9c45",
   "metadata": {
    "tags": []
   },
   "outputs": [
    {
     "name": "stdout",
     "output_type": "stream",
     "text": [
      "CSV dataset created successfully.\n"
     ]
    }
   ],
   "source": [
    "import csv\n",
    "\n",
    "# Define the data\n",
    "dataset = [\n",
    "    ['R_e', 'V_e', 'inc', 'T_p', 'pa'],  \n",
    "    ['3.229546812070865', '355.3821222169686', '56.22872726757305', '10549.079276472225', '91.85433974776912']\n",
    "]\n",
    "\n",
    "# Specify the file path\n",
    "filename = 'best_fitting_model.csv'\n",
    "\n",
    "# Write the dataset to a CSV file\n",
    "with open(filename, 'w', newline='') as file:\n",
    "    writer = csv.writer(file)\n",
    "    writer.writerows(dataset)\n",
    "\n",
    "print('CSV dataset created successfully.')\n"
   ]
  },
  {
   "cell_type": "code",
   "execution_count": 4,
   "id": "fc3eb7d2-09f0-4b8c-a832-c6f695de2973",
   "metadata": {},
   "outputs": [
    {
     "data": {
      "text/html": [
       "<div>\n",
       "<style scoped>\n",
       "    .dataframe tbody tr th:only-of-type {\n",
       "        vertical-align: middle;\n",
       "    }\n",
       "\n",
       "    .dataframe tbody tr th {\n",
       "        vertical-align: top;\n",
       "    }\n",
       "\n",
       "    .dataframe thead th {\n",
       "        text-align: right;\n",
       "    }\n",
       "</style>\n",
       "<table border=\"1\" class=\"dataframe\">\n",
       "  <thead>\n",
       "    <tr style=\"text-align: right;\">\n",
       "      <th></th>\n",
       "      <th>R_e</th>\n",
       "      <th>V_e</th>\n",
       "      <th>inc</th>\n",
       "      <th>T_p</th>\n",
       "      <th>pa</th>\n",
       "    </tr>\n",
       "  </thead>\n",
       "  <tbody>\n",
       "    <tr>\n",
       "      <th>0</th>\n",
       "      <td>3.229547</td>\n",
       "      <td>355.382122</td>\n",
       "      <td>56.228727</td>\n",
       "      <td>10549.079276</td>\n",
       "      <td>91.85434</td>\n",
       "    </tr>\n",
       "  </tbody>\n",
       "</table>\n",
       "</div>"
      ],
      "text/plain": [
       "        R_e         V_e        inc           T_p        pa\n",
       "0  3.229547  355.382122  56.228727  10549.079276  91.85434"
      ]
     },
     "metadata": {},
     "output_type": "display_data"
    }
   ],
   "source": [
    "data = pd.read_csv('/Users/john/Desktop/presentation III/best_fitting_model.csv')\n",
    "with pd.option_context('display.max_columns', None, 'display.max_rows', None):\n",
    "    display(data)\n"
   ]
  },
  {
   "cell_type": "code",
   "execution_count": null,
   "id": "7e0ff0bc-9021-4b5f-a46f-38bdb127503e",
   "metadata": {},
   "outputs": [],
   "source": []
  }
 ],
 "metadata": {
  "kernelspec": {
   "display_name": "Python 3 (ipykernel)",
   "language": "python",
   "name": "python3"
  },
  "language_info": {
   "codemirror_mode": {
    "name": "ipython",
    "version": 3
   },
   "file_extension": ".py",
   "mimetype": "text/x-python",
   "name": "python",
   "nbconvert_exporter": "python",
   "pygments_lexer": "ipython3",
   "version": "3.9.16"
  }
 },
 "nbformat": 4,
 "nbformat_minor": 5
}
